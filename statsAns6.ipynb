{
 "cells": [
  {
   "cell_type": "code",
   "execution_count": 6,
   "metadata": {},
   "outputs": [
    {
     "name": "stdout",
     "output_type": "stream",
     "text": [
      "The data does not follow a normal distribution (reject H0)\n"
     ]
    }
   ],
   "source": [
    "import pandas as pd\n",
    "from scipy.stats import shapiro\n",
    "\n",
    "# Read the data\n",
    "data = pd.read_csv(r'C:\\Users\\rohit\\Downloads\\data.csv')\n",
    "\n",
    "# Calculate the difference in blood pressure\n",
    "data['Difference'] = data[' Blood Pressure After (mmHg)'] - data[' Blood Pressure Before (mmHg)']\n",
    "\n",
    "# Perform Shapiro-Wilk test\n",
    "stat, p_value = shapiro(data['Difference'])\n",
    "\n",
    "# Interpret the test result\n",
    "alpha = 0.05\n",
    "if p_value > alpha:\n",
    "    print(\"The data follows a normal distribution (fail to reject H0)\")\n",
    "else:\n",
    "    print(\"The data does not follow a normal distribution (reject H0)\")\n"
   ]
  },
  {
   "cell_type": "code",
   "execution_count": null,
   "metadata": {},
   "outputs": [],
   "source": []
  }
 ],
 "metadata": {
  "kernelspec": {
   "display_name": "base",
   "language": "python",
   "name": "python3"
  },
  "language_info": {
   "codemirror_mode": {
    "name": "ipython",
    "version": 3
   },
   "file_extension": ".py",
   "mimetype": "text/x-python",
   "name": "python",
   "nbconvert_exporter": "python",
   "pygments_lexer": "ipython3",
   "version": "3.9.12"
  },
  "orig_nbformat": 4
 },
 "nbformat": 4,
 "nbformat_minor": 2
}
