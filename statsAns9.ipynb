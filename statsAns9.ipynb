{
 "cells": [
  {
   "cell_type": "code",
   "execution_count": 1,
   "metadata": {},
   "outputs": [
    {
     "name": "stdout",
     "output_type": "stream",
     "text": [
      "The mean scores of all the students are the same (fail to reject H0)\n",
      "Student with the highest score: Deepak\n"
     ]
    }
   ],
   "source": [
    "from scipy.stats import f_oneway\n",
    "\n",
    "\n",
    "exam1_scores = [85, 70, 90, 75, 95]\n",
    "exam2_scores = [90, 80, 85, 70, 92]\n",
    "final_exam_scores = [92, 85, 88, 75, 96]\n",
    "\n",
    "# Performing ANOVA test\n",
    "statistic, p_value = f_oneway(exam1_scores, exam2_scores, final_exam_scores)\n",
    "\n",
    "\n",
    "alpha = 0.05\n",
    "if p_value > alpha:\n",
    "    print(\"The mean scores of all the students are the same (fail to reject H0)\")\n",
    "else:\n",
    "    print(\"The mean scores of all the students are not the same (reject H0)\")\n",
    "\n",
    "# Find the student with the highest score\n",
    "students = ['Karan', 'Deepa', 'Karthik', 'Chandan', 'Deepak']\n",
    "highest_score_student = students[final_exam_scores.index(max(final_exam_scores))]\n",
    "print(\"Student with the highest score:\", highest_score_student)\n"
   ]
  },
  {
   "cell_type": "code",
   "execution_count": null,
   "metadata": {},
   "outputs": [],
   "source": []
  }
 ],
 "metadata": {
  "kernelspec": {
   "display_name": "base",
   "language": "python",
   "name": "python3"
  },
  "language_info": {
   "codemirror_mode": {
    "name": "ipython",
    "version": 3
   },
   "file_extension": ".py",
   "mimetype": "text/x-python",
   "name": "python",
   "nbconvert_exporter": "python",
   "pygments_lexer": "ipython3",
   "version": "3.9.12"
  },
  "orig_nbformat": 4
 },
 "nbformat": 4,
 "nbformat_minor": 2
}
