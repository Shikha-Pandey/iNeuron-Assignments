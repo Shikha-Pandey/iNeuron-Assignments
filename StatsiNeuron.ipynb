{
 "cells": [
  {
   "cell_type": "code",
   "execution_count": 13,
   "metadata": {},
   "outputs": [
    {
     "name": "stdout",
     "output_type": "stream",
     "text": [
      "0.9999997133484281\n",
      "b) probability is  2.866515719235352e-07\n",
      "c) z-score is  1.5\n",
      "d) Threshhold is  153.55146373048527\n",
      "e) coefficient of variation is  5.88235294117647\n"
     ]
    }
   ],
   "source": [
    "from scipy import stats\n",
    "mean = 170\n",
    "std_dev = 10\n",
    "sample_size = 100\n",
    "\n",
    "# Calculate the standard error of the mean\n",
    "std_error = std_dev / (sample_size ** 0.5)\n",
    "\n",
    "# Calculate the z-score\n",
    "z_score = (175 - mean) / std_error\n",
    "\n",
    "# Calculate the probability using the standard normal distribution table or a statistical calculator\n",
    "probability = 1 - stats.norm.cdf(z_score)\n",
    "print(stats.norm.cdf(z_score))\n",
    "print(\"b) probability is \",probability)\n",
    "\n",
    "# Ans b\n",
    "x = 185 #height\n",
    "mean = 170\n",
    "std_dev = 10\n",
    "\n",
    "z_score = (x - mean) / std_dev\n",
    "print(\"c) z-score is \" ,z_score)\n",
    "\n",
    "threshold = stats.norm.ppf(0.05) * std_dev + mean\n",
    "print(\"d) Threshhold is \", threshold)\n",
    "\n",
    "CV = (std_dev / mean) * 100\n",
    "print(\"e) coefficient of variation is \", CV)\n",
    "\n"
   ]
  },
  {
   "cell_type": "code",
   "execution_count": null,
   "metadata": {},
   "outputs": [],
   "source": []
  }
 ],
 "metadata": {
  "kernelspec": {
   "display_name": "base",
   "language": "python",
   "name": "python3"
  },
  "language_info": {
   "codemirror_mode": {
    "name": "ipython",
    "version": 3
   },
   "file_extension": ".py",
   "mimetype": "text/x-python",
   "name": "python",
   "nbconvert_exporter": "python",
   "pygments_lexer": "ipython3",
   "version": "3.9.12"
  },
  "orig_nbformat": 4
 },
 "nbformat": 4,
 "nbformat_minor": 2
}
