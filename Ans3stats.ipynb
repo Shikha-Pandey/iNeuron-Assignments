{
 "cells": [
  {
   "cell_type": "code",
   "execution_count": 4,
   "metadata": {},
   "outputs": [
    {
     "name": "stdout",
     "output_type": "stream",
     "text": [
      "Dispersion for 'Blood Pressure Before':\n",
      "Range: 28\n",
      "Variance: 43.53727272727271\n",
      "Standard Deviation: 6.598278012275075\n",
      "\n",
      "Dispersion for 'Blood Pressure After':\n",
      "Range: 23\n",
      "Variance: 47.4448484848485\n",
      "Standard Deviation: 6.8880221025232276\n"
     ]
    }
   ],
   "source": [
    "import pandas as pd\n",
    "\n",
    "# Read the data from CSV file\n",
    "data = pd.read_csv(r\"C:\\Users\\rohit\\Downloads\\data.csv\")\n",
    "\n",
    "# Extract 'Blood Pressure Before' and 'Blood Pressure After' columns\n",
    "before_data = data[' Blood Pressure Before (mmHg)']\n",
    "after_data = data[' Blood Pressure After (mmHg)']\n",
    "\n",
    "# Measure the dispersion - Range\n",
    "before_range = before_data.max() - before_data.min()\n",
    "after_range = after_data.max() - after_data.min()\n",
    "\n",
    "# Measure the dispersion - Variance\n",
    "before_variance = before_data.var()\n",
    "after_variance = after_data.var()\n",
    "\n",
    "# Measure the dispersion - Standard Deviation\n",
    "before_std = before_data.std()\n",
    "after_std = after_data.std()\n",
    "\n",
    "# Interpretation\n",
    "print(\"Dispersion for 'Blood Pressure Before':\")\n",
    "print(\"Range:\", before_range)\n",
    "print(\"Variance:\", before_variance)\n",
    "print(\"Standard Deviation:\", before_std)\n",
    "print()\n",
    "\n",
    "print(\"Dispersion for 'Blood Pressure After':\")\n",
    "print(\"Range:\", after_range)\n",
    "print(\"Variance:\", after_variance)\n",
    "print(\"Standard Deviation:\", after_std)\n"
   ]
  },
  {
   "cell_type": "code",
   "execution_count": null,
   "metadata": {},
   "outputs": [],
   "source": []
  }
 ],
 "metadata": {
  "kernelspec": {
   "display_name": "base",
   "language": "python",
   "name": "python3"
  },
  "language_info": {
   "codemirror_mode": {
    "name": "ipython",
    "version": 3
   },
   "file_extension": ".py",
   "mimetype": "text/x-python",
   "name": "python",
   "nbconvert_exporter": "python",
   "pygments_lexer": "ipython3",
   "version": "3.9.12"
  },
  "orig_nbformat": 4
 },
 "nbformat": 4,
 "nbformat_minor": 2
}
